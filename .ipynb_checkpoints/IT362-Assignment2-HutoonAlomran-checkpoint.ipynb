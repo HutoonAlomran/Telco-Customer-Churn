{
 "cells": [
  {
   "cell_type": "markdown",
   "id": "bd5655ef",
   "metadata": {},
   "source": [
    "# Assignment 2: Data Preparation and Cleaning \n",
    "### Telco Customer Churn Dataset\n",
    "#### Done by : Hutooon Suliman Saad Aolmran\n"
   ]
  },
  {
   "cell_type": "markdown",
   "id": "9067f011",
   "metadata": {},
   "source": [
    "#### Import the required packages"
   ]
  },
  {
   "cell_type": "code",
   "execution_count": 20,
   "id": "2aad8158",
   "metadata": {},
   "outputs": [],
   "source": [
    "import pandas as pd\n",
    "import numpy as np"
   ]
  },
  {
   "cell_type": "markdown",
   "id": "b61df3c2",
   "metadata": {},
   "source": [
    "#### Import the dataset"
   ]
  },
  {
   "cell_type": "code",
   "execution_count": 21,
   "id": "e9d8bd7a",
   "metadata": {},
   "outputs": [],
   "source": [
    "dataset = pd.read_csv(\"Telco-Customer-Churn.csv\")"
   ]
  },
  {
   "cell_type": "markdown",
   "id": "7a16389d",
   "metadata": {},
   "source": [
    "### 1.\tUnderstand the dataset:\n",
    "    \n",
    "#### a.\tHow many rows and columns?"
   ]
  },
  {
   "cell_type": "code",
   "execution_count": 22,
   "id": "7db42806",
   "metadata": {},
   "outputs": [
    {
     "data": {
      "text/plain": [
       "(7045, 21)"
      ]
     },
     "execution_count": 22,
     "metadata": {},
     "output_type": "execute_result"
    }
   ],
   "source": [
    "#returns the dimensions of the df\n",
    "dataset.shape"
   ]
  },
  {
   "cell_type": "markdown",
   "id": "11aefd14",
   "metadata": {},
   "source": [
    "#### b.Present a statistic description of the features."
   ]
  },
  {
   "cell_type": "code",
   "execution_count": 24,
   "id": "b32d8c39",
   "metadata": {},
   "outputs": [
    {
     "data": {
      "text/html": [
       "<div>\n",
       "<style scoped>\n",
       "    .dataframe tbody tr th:only-of-type {\n",
       "        vertical-align: middle;\n",
       "    }\n",
       "\n",
       "    .dataframe tbody tr th {\n",
       "        vertical-align: top;\n",
       "    }\n",
       "\n",
       "    .dataframe thead th {\n",
       "        text-align: right;\n",
       "    }\n",
       "</style>\n",
       "<table border=\"1\" class=\"dataframe\">\n",
       "  <thead>\n",
       "    <tr style=\"text-align: right;\">\n",
       "      <th></th>\n",
       "      <th>customerID</th>\n",
       "      <th>gender</th>\n",
       "      <th>SeniorCitizen</th>\n",
       "      <th>Partner</th>\n",
       "      <th>Dependents</th>\n",
       "      <th>tenure</th>\n",
       "      <th>PhoneService</th>\n",
       "      <th>MultipleLines</th>\n",
       "      <th>InternetService</th>\n",
       "      <th>OnlineSecurity</th>\n",
       "      <th>...</th>\n",
       "      <th>DeviceProtection</th>\n",
       "      <th>TechSupport</th>\n",
       "      <th>StreamingTV</th>\n",
       "      <th>StreamingMovies</th>\n",
       "      <th>Contract</th>\n",
       "      <th>PaperlessBilling</th>\n",
       "      <th>PaymentMethod</th>\n",
       "      <th>MonthlyCharges</th>\n",
       "      <th>TotalCharges</th>\n",
       "      <th>Churn</th>\n",
       "    </tr>\n",
       "  </thead>\n",
       "  <tbody>\n",
       "    <tr>\n",
       "      <th>count</th>\n",
       "      <td>7045</td>\n",
       "      <td>7045</td>\n",
       "      <td>7045.000000</td>\n",
       "      <td>7045</td>\n",
       "      <td>7045</td>\n",
       "      <td>7045.000000</td>\n",
       "      <td>7045</td>\n",
       "      <td>7045</td>\n",
       "      <td>7045</td>\n",
       "      <td>7045</td>\n",
       "      <td>...</td>\n",
       "      <td>7045</td>\n",
       "      <td>7045</td>\n",
       "      <td>7045</td>\n",
       "      <td>7045</td>\n",
       "      <td>7045</td>\n",
       "      <td>7045</td>\n",
       "      <td>7045</td>\n",
       "      <td>7045.000000</td>\n",
       "      <td>7034.000000</td>\n",
       "      <td>7045</td>\n",
       "    </tr>\n",
       "    <tr>\n",
       "      <th>unique</th>\n",
       "      <td>7043</td>\n",
       "      <td>2</td>\n",
       "      <td>NaN</td>\n",
       "      <td>2</td>\n",
       "      <td>2</td>\n",
       "      <td>NaN</td>\n",
       "      <td>2</td>\n",
       "      <td>3</td>\n",
       "      <td>3</td>\n",
       "      <td>3</td>\n",
       "      <td>...</td>\n",
       "      <td>3</td>\n",
       "      <td>3</td>\n",
       "      <td>3</td>\n",
       "      <td>3</td>\n",
       "      <td>3</td>\n",
       "      <td>2</td>\n",
       "      <td>4</td>\n",
       "      <td>NaN</td>\n",
       "      <td>NaN</td>\n",
       "      <td>2</td>\n",
       "    </tr>\n",
       "    <tr>\n",
       "      <th>top</th>\n",
       "      <td>5575-GNVDE</td>\n",
       "      <td>Male</td>\n",
       "      <td>NaN</td>\n",
       "      <td>No</td>\n",
       "      <td>No</td>\n",
       "      <td>NaN</td>\n",
       "      <td>Yes</td>\n",
       "      <td>No</td>\n",
       "      <td>Fiber optic</td>\n",
       "      <td>No</td>\n",
       "      <td>...</td>\n",
       "      <td>No</td>\n",
       "      <td>No</td>\n",
       "      <td>No</td>\n",
       "      <td>No</td>\n",
       "      <td>Month-to-month</td>\n",
       "      <td>Yes</td>\n",
       "      <td>Electronic check</td>\n",
       "      <td>NaN</td>\n",
       "      <td>NaN</td>\n",
       "      <td>No</td>\n",
       "    </tr>\n",
       "    <tr>\n",
       "      <th>freq</th>\n",
       "      <td>2</td>\n",
       "      <td>3557</td>\n",
       "      <td>NaN</td>\n",
       "      <td>3643</td>\n",
       "      <td>4935</td>\n",
       "      <td>NaN</td>\n",
       "      <td>6363</td>\n",
       "      <td>3392</td>\n",
       "      <td>3096</td>\n",
       "      <td>3498</td>\n",
       "      <td>...</td>\n",
       "      <td>3096</td>\n",
       "      <td>3475</td>\n",
       "      <td>2812</td>\n",
       "      <td>2787</td>\n",
       "      <td>3876</td>\n",
       "      <td>4172</td>\n",
       "      <td>2365</td>\n",
       "      <td>NaN</td>\n",
       "      <td>NaN</td>\n",
       "      <td>5175</td>\n",
       "    </tr>\n",
       "    <tr>\n",
       "      <th>mean</th>\n",
       "      <td>NaN</td>\n",
       "      <td>NaN</td>\n",
       "      <td>0.162101</td>\n",
       "      <td>NaN</td>\n",
       "      <td>NaN</td>\n",
       "      <td>32.365507</td>\n",
       "      <td>NaN</td>\n",
       "      <td>NaN</td>\n",
       "      <td>NaN</td>\n",
       "      <td>NaN</td>\n",
       "      <td>...</td>\n",
       "      <td>NaN</td>\n",
       "      <td>NaN</td>\n",
       "      <td>NaN</td>\n",
       "      <td>NaN</td>\n",
       "      <td>NaN</td>\n",
       "      <td>NaN</td>\n",
       "      <td>NaN</td>\n",
       "      <td>64.759035</td>\n",
       "      <td>2282.935222</td>\n",
       "      <td>NaN</td>\n",
       "    </tr>\n",
       "    <tr>\n",
       "      <th>std</th>\n",
       "      <td>NaN</td>\n",
       "      <td>NaN</td>\n",
       "      <td>0.368569</td>\n",
       "      <td>NaN</td>\n",
       "      <td>NaN</td>\n",
       "      <td>24.561012</td>\n",
       "      <td>NaN</td>\n",
       "      <td>NaN</td>\n",
       "      <td>NaN</td>\n",
       "      <td>NaN</td>\n",
       "      <td>...</td>\n",
       "      <td>NaN</td>\n",
       "      <td>NaN</td>\n",
       "      <td>NaN</td>\n",
       "      <td>NaN</td>\n",
       "      <td>NaN</td>\n",
       "      <td>NaN</td>\n",
       "      <td>NaN</td>\n",
       "      <td>30.086200</td>\n",
       "      <td>2266.602273</td>\n",
       "      <td>NaN</td>\n",
       "    </tr>\n",
       "    <tr>\n",
       "      <th>min</th>\n",
       "      <td>NaN</td>\n",
       "      <td>NaN</td>\n",
       "      <td>0.000000</td>\n",
       "      <td>NaN</td>\n",
       "      <td>NaN</td>\n",
       "      <td>-10.000000</td>\n",
       "      <td>NaN</td>\n",
       "      <td>NaN</td>\n",
       "      <td>NaN</td>\n",
       "      <td>NaN</td>\n",
       "      <td>...</td>\n",
       "      <td>NaN</td>\n",
       "      <td>NaN</td>\n",
       "      <td>NaN</td>\n",
       "      <td>NaN</td>\n",
       "      <td>NaN</td>\n",
       "      <td>NaN</td>\n",
       "      <td>NaN</td>\n",
       "      <td>18.250000</td>\n",
       "      <td>18.800000</td>\n",
       "      <td>NaN</td>\n",
       "    </tr>\n",
       "    <tr>\n",
       "      <th>25%</th>\n",
       "      <td>NaN</td>\n",
       "      <td>NaN</td>\n",
       "      <td>0.000000</td>\n",
       "      <td>NaN</td>\n",
       "      <td>NaN</td>\n",
       "      <td>9.000000</td>\n",
       "      <td>NaN</td>\n",
       "      <td>NaN</td>\n",
       "      <td>NaN</td>\n",
       "      <td>NaN</td>\n",
       "      <td>...</td>\n",
       "      <td>NaN</td>\n",
       "      <td>NaN</td>\n",
       "      <td>NaN</td>\n",
       "      <td>NaN</td>\n",
       "      <td>NaN</td>\n",
       "      <td>NaN</td>\n",
       "      <td>NaN</td>\n",
       "      <td>35.500000</td>\n",
       "      <td>401.350000</td>\n",
       "      <td>NaN</td>\n",
       "    </tr>\n",
       "    <tr>\n",
       "      <th>50%</th>\n",
       "      <td>NaN</td>\n",
       "      <td>NaN</td>\n",
       "      <td>0.000000</td>\n",
       "      <td>NaN</td>\n",
       "      <td>NaN</td>\n",
       "      <td>29.000000</td>\n",
       "      <td>NaN</td>\n",
       "      <td>NaN</td>\n",
       "      <td>NaN</td>\n",
       "      <td>NaN</td>\n",
       "      <td>...</td>\n",
       "      <td>NaN</td>\n",
       "      <td>NaN</td>\n",
       "      <td>NaN</td>\n",
       "      <td>NaN</td>\n",
       "      <td>NaN</td>\n",
       "      <td>NaN</td>\n",
       "      <td>NaN</td>\n",
       "      <td>70.350000</td>\n",
       "      <td>1397.475000</td>\n",
       "      <td>NaN</td>\n",
       "    </tr>\n",
       "    <tr>\n",
       "      <th>75%</th>\n",
       "      <td>NaN</td>\n",
       "      <td>NaN</td>\n",
       "      <td>0.000000</td>\n",
       "      <td>NaN</td>\n",
       "      <td>NaN</td>\n",
       "      <td>55.000000</td>\n",
       "      <td>NaN</td>\n",
       "      <td>NaN</td>\n",
       "      <td>NaN</td>\n",
       "      <td>NaN</td>\n",
       "      <td>...</td>\n",
       "      <td>NaN</td>\n",
       "      <td>NaN</td>\n",
       "      <td>NaN</td>\n",
       "      <td>NaN</td>\n",
       "      <td>NaN</td>\n",
       "      <td>NaN</td>\n",
       "      <td>NaN</td>\n",
       "      <td>89.850000</td>\n",
       "      <td>3793.775000</td>\n",
       "      <td>NaN</td>\n",
       "    </tr>\n",
       "    <tr>\n",
       "      <th>max</th>\n",
       "      <td>NaN</td>\n",
       "      <td>NaN</td>\n",
       "      <td>1.000000</td>\n",
       "      <td>NaN</td>\n",
       "      <td>NaN</td>\n",
       "      <td>72.000000</td>\n",
       "      <td>NaN</td>\n",
       "      <td>NaN</td>\n",
       "      <td>NaN</td>\n",
       "      <td>NaN</td>\n",
       "      <td>...</td>\n",
       "      <td>NaN</td>\n",
       "      <td>NaN</td>\n",
       "      <td>NaN</td>\n",
       "      <td>NaN</td>\n",
       "      <td>NaN</td>\n",
       "      <td>NaN</td>\n",
       "      <td>NaN</td>\n",
       "      <td>118.750000</td>\n",
       "      <td>8684.800000</td>\n",
       "      <td>NaN</td>\n",
       "    </tr>\n",
       "  </tbody>\n",
       "</table>\n",
       "<p>11 rows × 21 columns</p>\n",
       "</div>"
      ],
      "text/plain": [
       "        customerID gender  SeniorCitizen Partner Dependents       tenure  \\\n",
       "count         7045   7045    7045.000000    7045       7045  7045.000000   \n",
       "unique        7043      2            NaN       2          2          NaN   \n",
       "top     5575-GNVDE   Male            NaN      No         No          NaN   \n",
       "freq             2   3557            NaN    3643       4935          NaN   \n",
       "mean           NaN    NaN       0.162101     NaN        NaN    32.365507   \n",
       "std            NaN    NaN       0.368569     NaN        NaN    24.561012   \n",
       "min            NaN    NaN       0.000000     NaN        NaN   -10.000000   \n",
       "25%            NaN    NaN       0.000000     NaN        NaN     9.000000   \n",
       "50%            NaN    NaN       0.000000     NaN        NaN    29.000000   \n",
       "75%            NaN    NaN       0.000000     NaN        NaN    55.000000   \n",
       "max            NaN    NaN       1.000000     NaN        NaN    72.000000   \n",
       "\n",
       "       PhoneService MultipleLines InternetService OnlineSecurity  ...  \\\n",
       "count          7045          7045            7045           7045  ...   \n",
       "unique            2             3               3              3  ...   \n",
       "top             Yes            No     Fiber optic             No  ...   \n",
       "freq           6363          3392            3096           3498  ...   \n",
       "mean            NaN           NaN             NaN            NaN  ...   \n",
       "std             NaN           NaN             NaN            NaN  ...   \n",
       "min             NaN           NaN             NaN            NaN  ...   \n",
       "25%             NaN           NaN             NaN            NaN  ...   \n",
       "50%             NaN           NaN             NaN            NaN  ...   \n",
       "75%             NaN           NaN             NaN            NaN  ...   \n",
       "max             NaN           NaN             NaN            NaN  ...   \n",
       "\n",
       "       DeviceProtection TechSupport StreamingTV StreamingMovies  \\\n",
       "count              7045        7045        7045            7045   \n",
       "unique                3           3           3               3   \n",
       "top                  No          No          No              No   \n",
       "freq               3096        3475        2812            2787   \n",
       "mean                NaN         NaN         NaN             NaN   \n",
       "std                 NaN         NaN         NaN             NaN   \n",
       "min                 NaN         NaN         NaN             NaN   \n",
       "25%                 NaN         NaN         NaN             NaN   \n",
       "50%                 NaN         NaN         NaN             NaN   \n",
       "75%                 NaN         NaN         NaN             NaN   \n",
       "max                 NaN         NaN         NaN             NaN   \n",
       "\n",
       "              Contract PaperlessBilling     PaymentMethod MonthlyCharges  \\\n",
       "count             7045             7045              7045    7045.000000   \n",
       "unique               3                2                 4            NaN   \n",
       "top     Month-to-month              Yes  Electronic check            NaN   \n",
       "freq              3876             4172              2365            NaN   \n",
       "mean               NaN              NaN               NaN      64.759035   \n",
       "std                NaN              NaN               NaN      30.086200   \n",
       "min                NaN              NaN               NaN      18.250000   \n",
       "25%                NaN              NaN               NaN      35.500000   \n",
       "50%                NaN              NaN               NaN      70.350000   \n",
       "75%                NaN              NaN               NaN      89.850000   \n",
       "max                NaN              NaN               NaN     118.750000   \n",
       "\n",
       "        TotalCharges  Churn  \n",
       "count    7034.000000   7045  \n",
       "unique           NaN      2  \n",
       "top              NaN     No  \n",
       "freq             NaN   5175  \n",
       "mean     2282.935222    NaN  \n",
       "std      2266.602273    NaN  \n",
       "min        18.800000    NaN  \n",
       "25%       401.350000    NaN  \n",
       "50%      1397.475000    NaN  \n",
       "75%      3793.775000    NaN  \n",
       "max      8684.800000    NaN  \n",
       "\n",
       "[11 rows x 21 columns]"
      ]
     },
     "execution_count": 24,
     "metadata": {},
     "output_type": "execute_result"
    }
   ],
   "source": [
    "# concise summary of the dataframe\n",
    "dataset.describe(include=\"all\")"
   ]
  },
  {
   "cell_type": "markdown",
   "id": "1c2ed812",
   "metadata": {},
   "source": [
    "### 2.\tCheck the validity of the dataset by determining the following issues:\n",
    "#### a.\tDuplication: Meaning that there are 2 or more records that exactly match each other."
   ]
  },
  {
   "cell_type": "code",
   "execution_count": 27,
   "id": "03249192",
   "metadata": {},
   "outputs": [
    {
     "name": "stdout",
     "output_type": "stream",
     "text": [
      "0       False\n",
      "1       False\n",
      "2       False\n",
      "3       False\n",
      "4       False\n",
      "        ...  \n",
      "7040    False\n",
      "7041    False\n",
      "7042    False\n",
      "7043     True\n",
      "7044     True\n",
      "Length: 7045, dtype: bool\n",
      "2\n"
     ]
    }
   ],
   "source": [
    "#Duplication - number of duplication records\n",
    "print(dataset.duplicated())\n",
    "\n",
    "print(\"number of dublicated rows: \" , dataset.duplicated().sum())"
   ]
  },
  {
   "cell_type": "code",
   "execution_count": 19,
   "id": "9c63fcc6",
   "metadata": {},
   "outputs": [
    {
     "name": "stdout",
     "output_type": "stream",
     "text": [
      "0\n"
     ]
    }
   ],
   "source": [
    "#Keep one of the duplicated records and drop the others\n",
    "dataset = dataset.drop_duplicates(keep='first')\n",
    "\n",
    "#To make sure that all of the duplicate records are dropped (keeping one)\n",
    "print(dataset.duplicated().sum())"
   ]
  },
  {
   "cell_type": "markdown",
   "id": "5ef58f0d",
   "metadata": {},
   "source": [
    "#### b.\tIrrelevant or incorrect values: such as -100 as a value for tenure!"
   ]
  },
  {
   "cell_type": "code",
   "execution_count": 7,
   "id": "940d2992",
   "metadata": {},
   "outputs": [
    {
     "data": {
      "text/plain": [
       "-10"
      ]
     },
     "execution_count": 7,
     "metadata": {},
     "output_type": "execute_result"
    }
   ],
   "source": [
    "#Irrelevant or incorrect values\n",
    "dataset[\"tenure\"].min()"
   ]
  },
  {
   "cell_type": "code",
   "execution_count": 8,
   "id": "a1bcde43",
   "metadata": {},
   "outputs": [
    {
     "data": {
      "text/plain": [
       "0"
      ]
     },
     "execution_count": 8,
     "metadata": {},
     "output_type": "execute_result"
    }
   ],
   "source": [
    "#rplece it with a logical value\n",
    "dataset[\"tenure\"] = dataset[\"tenure\"].replace([-10],0)\n",
    "\n",
    "#Make sure it has been replaced\n",
    "dataset[\"tenure\"].min()"
   ]
  },
  {
   "cell_type": "markdown",
   "id": "bc038293",
   "metadata": {},
   "source": [
    "#### c.\tMissing values: No assigned value for some attribute in a record."
   ]
  },
  {
   "cell_type": "code",
   "execution_count": 9,
   "id": "87ec43d4",
   "metadata": {
    "scrolled": true
   },
   "outputs": [
    {
     "data": {
      "text/plain": [
       "customerID           0\n",
       "gender               0\n",
       "SeniorCitizen        0\n",
       "Partner              0\n",
       "Dependents           0\n",
       "tenure               0\n",
       "PhoneService         0\n",
       "MultipleLines        0\n",
       "InternetService      0\n",
       "OnlineSecurity       0\n",
       "OnlineBackup         0\n",
       "DeviceProtection     0\n",
       "TechSupport          0\n",
       "StreamingTV          0\n",
       "StreamingMovies      0\n",
       "Contract             0\n",
       "PaperlessBilling     0\n",
       "PaymentMethod        0\n",
       "MonthlyCharges       0\n",
       "TotalCharges        11\n",
       "Churn                0\n",
       "dtype: int64"
      ]
     },
     "execution_count": 9,
     "metadata": {},
     "output_type": "execute_result"
    }
   ],
   "source": [
    "#Missing values\n",
    "dataset.isnull().sum()"
   ]
  },
  {
   "cell_type": "code",
   "execution_count": 10,
   "id": "a30618d5",
   "metadata": {},
   "outputs": [],
   "source": [
    "#fill in the missing values with the mean of the column \n",
    "\n",
    "TotalCharges_mean = dataset[\"TotalCharges\"].mean()\n",
    "dataset['TotalCharges'] = dataset['TotalCharges'].fillna(TotalCharges_mean)"
   ]
  },
  {
   "cell_type": "code",
   "execution_count": 11,
   "id": "d6b31009",
   "metadata": {},
   "outputs": [
    {
     "data": {
      "text/plain": [
       "customerID          0\n",
       "gender              0\n",
       "SeniorCitizen       0\n",
       "Partner             0\n",
       "Dependents          0\n",
       "tenure              0\n",
       "PhoneService        0\n",
       "MultipleLines       0\n",
       "InternetService     0\n",
       "OnlineSecurity      0\n",
       "OnlineBackup        0\n",
       "DeviceProtection    0\n",
       "TechSupport         0\n",
       "StreamingTV         0\n",
       "StreamingMovies     0\n",
       "Contract            0\n",
       "PaperlessBilling    0\n",
       "PaymentMethod       0\n",
       "MonthlyCharges      0\n",
       "TotalCharges        0\n",
       "Churn               0\n",
       "dtype: int64"
      ]
     },
     "execution_count": 11,
     "metadata": {},
     "output_type": "execute_result"
    }
   ],
   "source": [
    "#Make sure that there is no missing values now\n",
    "dataset.isnull().sum()"
   ]
  },
  {
   "cell_type": "markdown",
   "id": "9ea32811",
   "metadata": {},
   "source": [
    "### 3.\tPrepare the data:\n",
    "#### a.\tDropping irrelevant data “customer ID” column?"
   ]
  },
  {
   "cell_type": "code",
   "execution_count": 12,
   "id": "696320aa",
   "metadata": {},
   "outputs": [],
   "source": [
    "dataset = dataset.drop(['customerID'], axis=1)"
   ]
  },
  {
   "cell_type": "code",
   "execution_count": 13,
   "id": "3fbfdbd4",
   "metadata": {},
   "outputs": [
    {
     "data": {
      "text/plain": [
       "['gender',\n",
       " 'SeniorCitizen',\n",
       " 'Partner',\n",
       " 'Dependents',\n",
       " 'tenure',\n",
       " 'PhoneService',\n",
       " 'MultipleLines',\n",
       " 'InternetService',\n",
       " 'OnlineSecurity',\n",
       " 'OnlineBackup',\n",
       " 'DeviceProtection',\n",
       " 'TechSupport',\n",
       " 'StreamingTV',\n",
       " 'StreamingMovies',\n",
       " 'Contract',\n",
       " 'PaperlessBilling',\n",
       " 'PaymentMethod',\n",
       " 'MonthlyCharges',\n",
       " 'TotalCharges',\n",
       " 'Churn']"
      ]
     },
     "execution_count": 13,
     "metadata": {},
     "output_type": "execute_result"
    }
   ],
   "source": [
    "#make sure that “customer ID” column is dropped\n",
    "list(dataset.columns.values)"
   ]
  },
  {
   "cell_type": "markdown",
   "id": "c7cab25a",
   "metadata": {},
   "source": [
    "### 4.\tAnswer the following questions using charts, and calculations and they must be explained properly:\n",
    "#### a.\tWhat is the percentage for each gender which left the company? Does gender have an effect on churn?\n"
   ]
  },
  {
   "cell_type": "code",
   "execution_count": 14,
   "id": "9e684ef3",
   "metadata": {},
   "outputs": [
    {
     "name": "stdout",
     "output_type": "stream",
     "text": [
      "percentage of churned females: 26.920871559633024%\n",
      "percentage of churned males: 26.160337552742618%\n"
     ]
    },
    {
     "data": {
      "text/plain": [
       "<AxesSubplot:xlabel='gender'>"
      ]
     },
     "execution_count": 14,
     "metadata": {},
     "output_type": "execute_result"
    },
    {
     "data": {
      "image/png": "[encoded data removed]",
      "text/plain": [
       "<Figure size 504x504 with 1 Axes>"
      ]
     },
     "metadata": {
      "needs_background": "light"
     },
     "output_type": "display_data"
    }
   ],
   "source": [
    "print(\"percentage of churned females: {}%\".format(len(dataset[ (dataset.gender == 'Female') & (dataset.Churn== 'Yes') ]) / len(dataset[dataset.gender == 'Female'])*100))\n",
    "print(\"percentage of churned males: {}%\".format(len(dataset[ (dataset.gender == 'Male') & (dataset.Churn== 'Yes') ]) / len(dataset[dataset.gender == 'Male'])*100))\n",
    "\n",
    "dataset.groupby(['gender','Churn']).size().unstack().plot(kind='bar', figsize=(7,7))"
   ]
  },
  {
   "cell_type": "markdown",
   "id": "9e57ce42",
   "metadata": {},
   "source": [
    "#### b.\tWhat is the percentage of elderly people who left the company? Does this feature have an effect on churn?\n"
   ]
  },
  {
   "cell_type": "code",
   "execution_count": 15,
   "id": "cb1c603a",
   "metadata": {},
   "outputs": [
    {
     "name": "stdout",
     "output_type": "stream",
     "text": [
      "percentage of churned elderly people: 41.68126094570928%\n"
     ]
    },
    {
     "data": {
      "text/plain": [
       "<AxesSubplot:xlabel='SeniorCitizen'>"
      ]
     },
     "execution_count": 15,
     "metadata": {},
     "output_type": "execute_result"
    },
    {
     "data": {
      "image/png": "[encoded data removed]",
      "text/plain": [
       "<Figure size 504x504 with 1 Axes>"
      ]
     },
     "metadata": {
      "needs_background": "light"
     },
     "output_type": "display_data"
    }
   ],
   "source": [
    "print(\"percentage of churned elderly people: {}%\".format(len(dataset[ (dataset.SeniorCitizen == 1 ) & (dataset.Churn== 'Yes') ]) / len(dataset[dataset.SeniorCitizen == 1 ])*100))\n",
    "\n",
    "dataset.groupby(['SeniorCitizen','Churn']).size().unstack().plot(kind='bar', figsize=(7,7))"
   ]
  },
  {
   "cell_type": "markdown",
   "id": "1a0a0514",
   "metadata": {},
   "source": [
    "#### c.\tWhat is the effect of contract type on churn?"
   ]
  },
  {
   "cell_type": "code",
   "execution_count": 16,
   "id": "64b76afb",
   "metadata": {},
   "outputs": [
    {
     "name": "stdout",
     "output_type": "stream",
     "text": [
      "Percentage of the churend customer with: \n",
      "1- Month-to-month contract: 42.70967741935484%\n",
      "2- One year contract: 11.269517990495586%\n",
      "3- Two year contract: 2.831858407079646%\n"
     ]
    },
    {
     "data": {
      "text/plain": [
       "<AxesSubplot:xlabel='Contract'>"
      ]
     },
     "execution_count": 16,
     "metadata": {},
     "output_type": "execute_result"
    },
    {
     "data": {
      "image/png": "[encoded data removed]",
      "text/plain": [
       "<Figure size 504x504 with 1 Axes>"
      ]
     },
     "metadata": {
      "needs_background": "light"
     },
     "output_type": "display_data"
    }
   ],
   "source": [
    "print(\"Percentage of the churend customer with: \")\n",
    "print(\"1- Month-to-month contract: {}%\".format(len(dataset[ (dataset.Contract == 'Month-to-month' ) & (dataset.Churn== 'Yes') ]) / len(dataset[dataset.Contract == 'Month-to-month'])*100))\n",
    "print(\"2- One year contract: {}%\".format(len(dataset[ (dataset.Contract == 'One year' ) & (dataset.Churn== 'Yes') ]) / len(dataset[dataset.Contract == 'One year' ])*100))\n",
    "print(\"3- Two year contract: {}%\".format(len(dataset[ (dataset.Contract == 'Two year' ) & (dataset.Churn== 'Yes') ]) / len(dataset[dataset.Contract == 'Two year' ])*100))\n",
    "\n",
    "\n",
    "dataset.groupby(['Contract','Churn']).size().unstack().plot(kind='bar', figsize=(7,7))"
   ]
  },
  {
   "cell_type": "code",
   "execution_count": 17,
   "id": "6eb6656c",
   "metadata": {},
   "outputs": [],
   "source": [
    "dataset.to_csv('Cleand-Telco-Customer-Churn.csv', index=False, encoding='utf-8')"
   ]
  }
 ],
 "metadata": {
  "kernelspec": {
   "display_name": "Python 3 (ipykernel)",
   "language": "python",
   "name": "python3"
  },
  "language_info": {
   "codemirror_mode": {
    "name": "ipython",
    "version": 3
   },
   "file_extension": ".py",
   "mimetype": "text/x-python",
   "name": "python",
   "nbconvert_exporter": "python",
   "pygments_lexer": "ipython3",
   "version": "3.9.12"
  }
 },
 "nbformat": 4,
 "nbformat_minor": 5
}
